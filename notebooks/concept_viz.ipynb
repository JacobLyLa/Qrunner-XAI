{
 "cells": [
  {
   "cell_type": "code",
   "execution_count": 1,
   "metadata": {},
   "outputs": [],
   "source": [
    "import os\n",
    "os.chdir('../')"
   ]
  },
  {
   "cell_type": "code",
   "execution_count": 2,
   "metadata": {},
   "outputs": [],
   "source": [
    "import random\n",
    "\n",
    "import matplotlib.pyplot as plt\n",
    "import numpy as np\n",
    "import seaborn as sns\n",
    "import torch\n",
    "import torch.nn as nn\n",
    "from sklearn.linear_model import LogisticRegression\n",
    "\n",
    "from src.DRL.qnetwork import QNetwork\n",
    "from src.XAI.concept import Concept\n",
    "from src.XAI.concepts import concept_instances"
   ]
  },
  {
   "cell_type": "code",
   "execution_count": 3,
   "metadata": {},
   "outputs": [
    {
     "name": "stderr",
     "output_type": "stream",
     "text": [
      "/home/jacob/DRL-CAV/.venv/lib/python3.10/site-packages/torch/_utils.py:831: UserWarning: TypedStorage is deprecated. It will be removed in the future and UntypedStorage will be the only storage class. This should only matter to you if you are using storages directly.  To access UntypedStorage directly, use tensor.untyped_storage() instead of tensor.storage()\n",
      "  return self.fget.__get__(instance, owner)()\n"
     ]
    },
    {
     "name": "stdout",
     "output_type": "stream",
     "text": [
      "Loaded model: 20241115-172401-1990000\n"
     ]
    }
   ],
   "source": [
    "env_steps = Concept.load_concept_data()\n",
    "model_path = \"runs/20241115-172401/model_1990000.pt\"\n",
    "model = QNetwork(model_path=model_path)\n",
    "\n",
    "action_names = ['NOOP', 'LEFT', 'RIGHT', 'JUMP', 'DODGE']\n",
    "activation_layers = [1, 3, 5, 8]"
   ]
  },
  {
   "cell_type": "code",
   "execution_count": 4,
   "metadata": {},
   "outputs": [],
   "source": [
    "def prepare_probe(concept, model, layer, max_size=10000):\n",
    "    concept.prepare_data(env_steps, max_size=max_size)\n",
    "    train_obs = torch.tensor(concept.train_obs.copy()).float()\n",
    "    train_values = torch.tensor(concept.train_values, dtype=torch.float32)\n",
    "    test_obs = torch.tensor(concept.test_obs.copy()).float()\n",
    "    test_values = torch.tensor(concept.test_values, dtype=torch.float32)\n",
    "\n",
    "    _, acts_dict_train = model(train_obs, return_acts=True)\n",
    "    _, acts_dict_test = model(test_obs, return_acts=True)\n",
    "\n",
    "    x_data_train = acts_dict_train[layer].flatten(start_dim=1).cpu().numpy()\n",
    "    y_data_train = train_values.view(train_values.shape[0]).cpu().numpy()\n",
    "    x_data_test = acts_dict_test[layer].flatten(start_dim=1).cpu().numpy()\n",
    "    y_data_test = test_values.view(test_values.shape[0]).cpu().numpy()\n",
    "\n",
    "    lr = LogisticRegression(max_iter=1000, solver='liblinear', penalty='l1', C=1)\n",
    "    lr.fit(x_data_train, y_data_train)\n",
    "    probe_accuracy = round(lr.score(x_data_test, y_data_test), 2)\n",
    "\n",
    "    flat_weights = lr.coef_[0]\n",
    "    norm_direction = flat_weights #/ np.linalg.norm(flat_weights)\n",
    "\n",
    "    return lr, norm_direction, acts_dict_train, acts_dict_test, probe_accuracy"
   ]
  },
  {
   "cell_type": "code",
   "execution_count": 5,
   "metadata": {},
   "outputs": [],
   "source": [
    "class ModelDirectionOptimizer(nn.Module):\n",
    "    def __init__(self, model, direction, layer):\n",
    "        super().__init__()\n",
    "        self.direction = direction\n",
    "        self.layer = layer\n",
    "        self.model_activations = model.network[:layer + 1]\n",
    "\n",
    "    def forward(self, x):\n",
    "        activations = self.forward_activations(x)\n",
    "        dot_product = self.forward_direction(activations)\n",
    "        return dot_product\n",
    "    \n",
    "    def forward_activations(self, x):\n",
    "        if x.shape[1] == x.shape[2]:\n",
    "            x = x.permute(0, 3, 1, 2)\n",
    "            \n",
    "        activations = self.model_activations(x)\n",
    "        return activations.flatten(start_dim=1)\n",
    "    \n",
    "    def forward_direction(self, activations):\n",
    "        return activations @ self.direction"
   ]
  },
  {
   "cell_type": "code",
   "execution_count": 6,
   "metadata": {},
   "outputs": [
    {
     "name": "stdout",
     "output_type": "stream",
     "text": [
      "Probe accuracy: 0.94\n",
      "torch.Size([1, 84, 84, 3])\n"
     ]
    },
    {
     "data": {
      "image/png": "[encoded data removed]",
      "text/plain": [
       "<Figure size 640x480 with 1 Axes>"
      ]
     },
     "metadata": {},
     "output_type": "display_data"
    }
   ],
   "source": [
    "concept = concept_instances['Visible bullet']\n",
    "layer = 5\n",
    "maximize = 1 # 1 for maximizing, -1 for minimizing\n",
    "\n",
    "lr, direction, acts_dict_train, acts_dict_test, probe_accuracy = prepare_probe(concept, model, layer)\n",
    "print(f\"Probe accuracy: {probe_accuracy}\")\n",
    "dot_net = ModelDirectionOptimizer(model, torch.tensor(direction.flatten()).float(), layer)\n",
    "example_obs = torch.tensor(concept.test_obs[-maximize]).unsqueeze(0).float()\n",
    "original_obs = example_obs.clone()\n",
    "print(example_obs.shape)\n",
    "plt.imshow(example_obs[0].int())\n",
    "plt.axis('off')\n",
    "plt.show()"
   ]
  },
  {
   "cell_type": "code",
   "execution_count": 7,
   "metadata": {},
   "outputs": [
    {
     "name": "stdout",
     "output_type": "stream",
     "text": [
      "tensor([1826.1252], grad_fn=<MvBackward0>)\n",
      "tensor([1942.6726], grad_fn=<MvBackward0>)\n"
     ]
    },
    {
     "data": {
      "image/png": "[encoded data removed]",
      "text/plain": [
       "<Figure size 640x480 with 1 Axes>"
      ]
     },
     "metadata": {},
     "output_type": "display_data"
    }
   ],
   "source": [
    "# TODO: Make dot be a classifier instead, ranging from 0 to 1\n",
    "# See if bias/threshold can be extracted from sklearn model\n",
    "# After this, consider autoencoder visualization\n",
    "\n",
    "lr = 1\n",
    "steps = 100\n",
    "alpha = 1.0\n",
    "\n",
    "example_obs.requires_grad = True\n",
    "original_dot = dot_net(example_obs)\n",
    "print(original_dot)\n",
    "optimizer = torch.optim.Adam([example_obs], lr=lr)\n",
    "for i in range(steps):\n",
    "    # Add random noise to the image\n",
    "    example_obs.data += torch.randn_like(example_obs) * 0.1\n",
    "    optimizer.zero_grad()\n",
    "    dot = dot_net(example_obs)\n",
    "    loss = -maximize * dot + alpha * torch.norm(example_obs - original_obs, p=1)\n",
    "    loss.backward()\n",
    "    optimizer.step()\n",
    "    \n",
    "    # Clamp the image values to be between 0 and 255\n",
    "    example_obs.data = example_obs.data.clamp(0, 255)\n",
    "print(dot)\n",
    "plt.imshow(example_obs[0].int())\n",
    "plt.axis('off')\n",
    "plt.show()"
   ]
  }
 ],
 "metadata": {
  "kernelspec": {
   "display_name": ".venv",
   "language": "python",
   "name": "python3"
  },
  "language_info": {
   "codemirror_mode": {
    "name": "ipython",
    "version": 3
   },
   "file_extension": ".py",
   "mimetype": "text/x-python",
   "name": "python",
   "nbconvert_exporter": "python",
   "pygments_lexer": "ipython3",
   "version": "3.10.12"
  }
 },
 "nbformat": 4,
 "nbformat_minor": 2
}
